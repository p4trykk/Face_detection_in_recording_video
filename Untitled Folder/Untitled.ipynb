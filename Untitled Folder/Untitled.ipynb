{
 "cells": [
  {
   "cell_type": "code",
   "execution_count": 1,
   "id": "93b1d534-b3fe-40c0-b188-35faf0a4150c",
   "metadata": {},
   "outputs": [
    {
     "name": "stdout",
     "output_type": "stream",
     "text": [
      "Collecting labelme\n",
      "  Using cached labelme-5.1.1.tar.gz (1.5 MB)\n",
      "  Preparing metadata (setup.py): started\n",
      "  Preparing metadata (setup.py): finished with status 'done'\n",
      "Collecting imgviz>=0.11\n",
      "  Using cached imgviz-1.6.2.tar.gz (7.7 MB)\n",
      "  Installing build dependencies: started\n",
      "  Installing build dependencies: finished with status 'done'\n",
      "  Getting requirements to build wheel: started\n",
      "  Getting requirements to build wheel: finished with status 'done'\n",
      "  Preparing metadata (pyproject.toml): started\n",
      "  Preparing metadata (pyproject.toml): finished with status 'done'\n",
      "Collecting matplotlib\n",
      "  Using cached matplotlib-3.6.2-cp38-cp38-win_amd64.whl (7.2 MB)\n",
      "Collecting natsort>=7.1.0\n",
      "  Using cached natsort-8.2.0-py3-none-any.whl (37 kB)\n",
      "Collecting numpy\n",
      "  Using cached numpy-1.23.5-cp38-cp38-win_amd64.whl (14.7 MB)\n",
      "Collecting Pillow>=2.8\n",
      "  Using cached Pillow-9.3.0-cp38-cp38-win_amd64.whl (2.5 MB)\n",
      "Collecting PyYAML\n",
      "  Using cached PyYAML-6.0-cp38-cp38-win_amd64.whl (155 kB)\n",
      "Collecting qtpy!=1.11.2\n",
      "  Using cached QtPy-2.3.0-py3-none-any.whl (83 kB)\n",
      "Collecting termcolor\n",
      "  Using cached termcolor-2.1.1-py3-none-any.whl (6.2 kB)\n",
      "Collecting PyQt5!=5.15.3,!=5.15.4\n",
      "  Using cached PyQt5-5.15.7-cp37-abi3-win_amd64.whl (6.8 MB)\n",
      "Requirement already satisfied: colorama in i:\\nowy folder\\envs\\bioc\\lib\\site-packages (from labelme) (0.4.5)\n",
      "Collecting PyQt5-Qt5>=5.15.0\n",
      "  Using cached PyQt5_Qt5-5.15.2-py3-none-win_amd64.whl (50.1 MB)\n",
      "Collecting PyQt5-sip<13,>=12.11\n",
      "  Downloading PyQt5_sip-12.11.0-cp38-cp38-win_amd64.whl (78 kB)\n",
      "     -------------------------------------- 78.1/78.1 kB 616.7 kB/s eta 0:00:00\n",
      "Requirement already satisfied: packaging in i:\\nowy folder\\envs\\bioc\\lib\\site-packages (from qtpy!=1.11.2->labelme) (21.3)\n",
      "Requirement already satisfied: pyparsing>=2.2.1 in i:\\nowy folder\\envs\\bioc\\lib\\site-packages (from matplotlib->labelme) (3.0.9)\n",
      "Collecting cycler>=0.10\n",
      "  Using cached cycler-0.11.0-py3-none-any.whl (6.4 kB)\n",
      "Collecting kiwisolver>=1.0.1\n",
      "  Downloading kiwisolver-1.4.4-cp38-cp38-win_amd64.whl (55 kB)\n",
      "     ---------------------------------------- 55.4/55.4 kB 1.5 MB/s eta 0:00:00\n",
      "Requirement already satisfied: python-dateutil>=2.7 in i:\\nowy folder\\envs\\bioc\\lib\\site-packages (from matplotlib->labelme) (2.8.2)\n",
      "Collecting fonttools>=4.22.0\n",
      "  Using cached fonttools-4.38.0-py3-none-any.whl (965 kB)\n",
      "Collecting contourpy>=1.0.1\n",
      "  Downloading contourpy-1.0.6-cp38-cp38-win_amd64.whl (163 kB)\n",
      "     -------------------------------------- 163.5/163.5 kB 1.4 MB/s eta 0:00:00\n",
      "Requirement already satisfied: six>=1.5 in i:\\nowy folder\\envs\\bioc\\lib\\site-packages (from python-dateutil>=2.7->matplotlib->labelme) (1.16.0)\n",
      "Building wheels for collected packages: labelme, imgviz\n",
      "  Building wheel for labelme (setup.py): started\n",
      "  Building wheel for labelme (setup.py): finished with status 'done'\n",
      "  Created wheel for labelme: filename=labelme-5.1.1-py3-none-any.whl size=1466361 sha256=5f17032f3b9cb5e19532fb59813000c4efb5cdfcdb901853950517a18e84d007\n",
      "  Stored in directory: c:\\users\\admin\\appdata\\local\\pip\\cache\\wheels\\73\\89\\84\\442d4814015c451509500658c0cbe3aff0ccfaf09753246243\n",
      "  Building wheel for imgviz (pyproject.toml): started\n",
      "  Building wheel for imgviz (pyproject.toml): finished with status 'done'\n",
      "  Created wheel for imgviz: filename=imgviz-1.6.2-py3-none-any.whl size=7681474 sha256=12b3e4d2acef3f977f254535b60d3ee706903d2bafd35b65d0c26c3bb6abc239\n",
      "  Stored in directory: c:\\users\\admin\\appdata\\local\\pip\\cache\\wheels\\91\\97\\fb\\ee0574a5e948e226243408761ed4d197e4da59ebe8536836eb\n",
      "Successfully built labelme imgviz\n",
      "Installing collected packages: PyQt5-Qt5, termcolor, PyYAML, PyQt5-sip, Pillow, numpy, natsort, kiwisolver, fonttools, cycler, qtpy, PyQt5, contourpy, matplotlib, imgviz, labelme\n",
      "Successfully installed Pillow-9.3.0 PyQt5-5.15.7 PyQt5-Qt5-5.15.2 PyQt5-sip-12.11.0 PyYAML-6.0 contourpy-1.0.6 cycler-0.11.0 fonttools-4.38.0 imgviz-1.6.2 kiwisolver-1.4.4 labelme-5.1.1 matplotlib-3.6.2 natsort-8.2.0 numpy-1.23.5 qtpy-2.3.0 termcolor-2.1.1\n"
     ]
    }
   ],
   "source": [
    "!pip install labelme"
   ]
  },
  {
   "cell_type": "code",
   "execution_count": null,
   "id": "760a7ff7-ca58-4d5e-9415-019f88f69e50",
   "metadata": {},
   "outputs": [],
   "source": []
  }
 ],
 "metadata": {
  "kernelspec": {
   "display_name": "Python 3 (ipykernel)",
   "language": "python",
   "name": "python3"
  },
  "language_info": {
   "codemirror_mode": {
    "name": "ipython",
    "version": 3
   },
   "file_extension": ".py",
   "mimetype": "text/x-python",
   "name": "python",
   "nbconvert_exporter": "python",
   "pygments_lexer": "ipython3",
   "version": "3.8.15"
  }
 },
 "nbformat": 4,
 "nbformat_minor": 5
}
